{
 "cells": [
  {
   "cell_type": "code",
   "execution_count": 1,
   "metadata": {},
   "outputs": [],
   "source": [
    "import numpy as np\n",
    "import pandas as pd\n",
    "import matplotlib.pyplot as plt\n",
    "from sklearn.model_selection import train_test_split"
   ]
  },
  {
   "cell_type": "code",
   "execution_count": 2,
   "metadata": {},
   "outputs": [],
   "source": [
    "data=pd.read_csv(\"mnist_train_small.csv\")"
   ]
  },
  {
   "cell_type": "code",
   "execution_count": 3,
   "metadata": {},
   "outputs": [
    {
     "name": "stdout",
     "output_type": "stream",
     "text": [
      "      Unnamed: 0  5  0  0.1  0.2  0.3  0.4  0.5  0.6  0.7  ...  0.608  0.609  \\\n",
      "0              0  0  0    0    0    0    0    0    0    0  ...      0      0   \n",
      "1              1  4  0    0    0    0    0    0    0    0  ...      0      0   \n",
      "2              2  1  0    0    0    0    0    0    0    0  ...      0      0   \n",
      "3              3  9  0    0    0    0    0    0    0    0  ...      0      0   \n",
      "4              4  2  0    0    0    0    0    0    0    0  ...      0      0   \n",
      "5              5  1  0    0    0    0    0    0    0    0  ...      0      0   \n",
      "6              6  3  0    0    0    0    0    0    0    0  ...      0      0   \n",
      "7              7  1  0    0    0    0    0    0    0    0  ...      0      0   \n",
      "8              8  4  0    0    0    0    0    0    0    0  ...      0      0   \n",
      "9              9  3  0    0    0    0    0    0    0    0  ...      0      0   \n",
      "10            10  5  0    0    0    0    0    0    0    0  ...      0      0   \n",
      "11            11  3  0    0    0    0    0    0    0    0  ...      0      0   \n",
      "12            12  6  0    0    0    0    0    0    0    0  ...      0      0   \n",
      "13            13  1  0    0    0    0    0    0    0    0  ...      0      0   \n",
      "14            14  7  0    0    0    0    0    0    0    0  ...      0      0   \n",
      "15            15  2  0    0    0    0    0    0    0    0  ...      0      0   \n",
      "16            16  8  0    0    0    0    0    0    0    0  ...      0      0   \n",
      "17            17  6  0    0    0    0    0    0    0    0  ...      0      0   \n",
      "18            18  9  0    0    0    0    0    0    0    0  ...      0      0   \n",
      "19            19  4  0    0    0    0    0    0    0    0  ...      0      0   \n",
      "20            20  0  0    0    0    0    0    0    0    0  ...      0      0   \n",
      "21            21  9  0    0    0    0    0    0    0    0  ...      0      0   \n",
      "22            22  1  0    0    0    0    0    0    0    0  ...      0      0   \n",
      "23            23  1  0    0    0    0    0    0    0    0  ...      0      0   \n",
      "24            24  2  0    0    0    0    0    0    0    0  ...      0      0   \n",
      "25            25  4  0    0    0    0    0    0    0    0  ...      0      0   \n",
      "26            26  3  0    0    0    0    0    0    0    0  ...      0      0   \n",
      "27            27  2  0    0    0    0    0    0    0    0  ...      0      0   \n",
      "28            28  7  0    0    0    0    0    0    0    0  ...      0      0   \n",
      "29            29  3  0    0    0    0    0    0    0    0  ...      0      0   \n",
      "...          ... .. ..  ...  ...  ...  ...  ...  ...  ...  ...    ...    ...   \n",
      "7970        7970  1  0    0    0    0    0    0    0    0  ...      0      0   \n",
      "7971        7971  6  0    0    0    0    0    0    0    0  ...      0      0   \n",
      "7972        7972  1  0    0    0    0    0    0    0    0  ...      0      0   \n",
      "7973        7973  4  0    0    0    0    0    0    0    0  ...      0      0   \n",
      "7974        7974  9  0    0    0    0    0    0    0    0  ...      0      0   \n",
      "7975        7975  3  0    0    0    0    0    0    0    0  ...      0      0   \n",
      "7976        7976  9  0    0    0    0    0    0    0    0  ...      0      0   \n",
      "7977        7977  0  0    0    0    0    0    0    0    0  ...      0      0   \n",
      "7978        7978  8  0    0    0    0    0    0    0    0  ...      0      0   \n",
      "7979        7979  3  0    0    0    0    0    0    0    0  ...      0      0   \n",
      "7980        7980  0  0    0    0    0    0    0    0    0  ...      0      0   \n",
      "7981        7981  3  0    0    0    0    0    0    0    0  ...      0      0   \n",
      "7982        7982  2  0    0    0    0    0    0    0    0  ...      0      0   \n",
      "7983        7983  4  0    0    0    0    0    0    0    0  ...      0      0   \n",
      "7984        7984  0  0    0    0    0    0    0    0    0  ...      0      0   \n",
      "7985        7985  2  0    0    0    0    0    0    0    0  ...      0      0   \n",
      "7986        7986  3  0    0    0    0    0    0    0    0  ...      0      0   \n",
      "7987        7987  5  0    0    0    0    0    0    0    0  ...      0      0   \n",
      "7988        7988  5  0    0    0    0    0    0    0    0  ...      0      0   \n",
      "7989        7989  6  0    0    0    0    0    0    0    0  ...      0      0   \n",
      "7990        7990  6  0    0    0    0    0    0    0    0  ...      0      0   \n",
      "7991        7991  7  0    0    0    0    0    0    0    0  ...      0      0   \n",
      "7992        7992  1  0    0    0    0    0    0    0    0  ...      0      0   \n",
      "7993        7993  7  0    0    0    0    0    0    0    0  ...      0      0   \n",
      "7994        7994  8  0    0    0    0    0    0    0    0  ...      0      0   \n",
      "7995        7995  1  0    0    0    0    0    0    0    0  ...      0      0   \n",
      "7996        7996  6  0    0    0    0    0    0    0    0  ...      0      0   \n",
      "7997        7997  5  0    0    0    0    0    0    0    0  ...      0      0   \n",
      "7998        7998  4  0    0    0    0    0    0    0    0  ...      0      0   \n",
      "7999        7999  0  0    0    0    0    0    0    0    0  ...      0      0   \n",
      "\n",
      "      0.610  0.611  0.612  0.613  0.614  0.615  0.616  0.617  \n",
      "0         0      0      0      0      0      0      0      0  \n",
      "1         0      0      0      0      0      0      0      0  \n",
      "2         0      0      0      0      0      0      0      0  \n",
      "3         0      0      0      0      0      0      0      0  \n",
      "4         0      0      0      0      0      0      0      0  \n",
      "5         0      0      0      0      0      0      0      0  \n",
      "6         0      0      0      0      0      0      0      0  \n",
      "7         0      0      0      0      0      0      0      0  \n",
      "8         0      0      0      0      0      0      0      0  \n",
      "9         0      0      0      0      0      0      0      0  \n",
      "10        0      0      0      0      0      0      0      0  \n",
      "11        0      0      0      0      0      0      0      0  \n",
      "12        0      0      0      0      0      0      0      0  \n",
      "13        0      0      0      0      0      0      0      0  \n",
      "14        0      0      0      0      0      0      0      0  \n",
      "15        0      0      0      0      0      0      0      0  \n",
      "16        0      0      0      0      0      0      0      0  \n",
      "17        0      0      0      0      0      0      0      0  \n",
      "18        0      0      0      0      0      0      0      0  \n",
      "19        0      0      0      0      0      0      0      0  \n",
      "20        0      0      0      0      0      0      0      0  \n",
      "21        0      0      0      0      0      0      0      0  \n",
      "22        0      0      0      0      0      0      0      0  \n",
      "23        0      0      0      0      0      0      0      0  \n",
      "24        0      0      0      0      0      0      0      0  \n",
      "25        0      0      0      0      0      0      0      0  \n",
      "26        0      0      0      0      0      0      0      0  \n",
      "27        0      0      0      0      0      0      0      0  \n",
      "28        0      0      0      0      0      0      0      0  \n",
      "29        0      0      0      0      0      0      0      0  \n",
      "...     ...    ...    ...    ...    ...    ...    ...    ...  \n",
      "7970      0      0      0      0      0      0      0      0  \n",
      "7971      0      0      0      0      0      0      0      0  \n",
      "7972      0      0      0      0      0      0      0      0  \n",
      "7973      0      0      0      0      0      0      0      0  \n",
      "7974      0      0      0      0      0      0      0      0  \n",
      "7975      0      0      0      0      0      0      0      0  \n",
      "7976      0      0      0      0      0      0      0      0  \n",
      "7977      0      0      0      0      0      0      0      0  \n",
      "7978      0      0      0      0      0      0      0      0  \n",
      "7979      0      0      0      0      0      0      0      0  \n",
      "7980      0      0      0      0      0      0      0      0  \n",
      "7981      0      0      0      0      0      0      0      0  \n",
      "7982      0      0      0      0      0      0      0      0  \n",
      "7983      0      0      0      0      0      0      0      0  \n",
      "7984      0      0      0      0      0      0      0      0  \n",
      "7985      0      0      0      0      0      0      0      0  \n",
      "7986      0      0      0      0      0      0      0      0  \n",
      "7987      0      0      0      0      0      0      0      0  \n",
      "7988      0      0      0      0      0      0      0      0  \n",
      "7989      0      0      0      0      0      0      0      0  \n",
      "7990      0      0      0      0      0      0      0      0  \n",
      "7991      0      0      0      0      0      0      0      0  \n",
      "7992      0      0      0      0      0      0      0      0  \n",
      "7993      0      0      0      0      0      0      0      0  \n",
      "7994      0      0      0      0      0      0      0      0  \n",
      "7995      0      0      0      0      0      0      0      0  \n",
      "7996      0      0      0      0      0      0      0      0  \n",
      "7997      0      0      0      0      0      0      0      0  \n",
      "7998      0      0      0      0      0      0      0      0  \n",
      "7999      0      0      0      0      0      0      0      0  \n",
      "\n",
      "[8000 rows x 786 columns]\n"
     ]
    }
   ],
   "source": [
    "print(data)"
   ]
  },
  {
   "cell_type": "code",
   "execution_count": 4,
   "metadata": {},
   "outputs": [
    {
     "data": {
      "text/plain": [
       "pandas.core.frame.DataFrame"
      ]
     },
     "execution_count": 4,
     "metadata": {},
     "output_type": "execute_result"
    }
   ],
   "source": [
    "type(data)"
   ]
  },
  {
   "cell_type": "markdown",
   "metadata": {},
   "source": [
    "# Converting data into numpy array"
   ]
  },
  {
   "cell_type": "code",
   "execution_count": 5,
   "metadata": {},
   "outputs": [],
   "source": [
    "num=data.values"
   ]
  },
  {
   "cell_type": "code",
   "execution_count": 6,
   "metadata": {},
   "outputs": [
    {
     "data": {
      "text/plain": [
       "numpy.ndarray"
      ]
     },
     "execution_count": 6,
     "metadata": {},
     "output_type": "execute_result"
    }
   ],
   "source": [
    "type(num)"
   ]
  },
  {
   "cell_type": "code",
   "execution_count": 7,
   "metadata": {},
   "outputs": [
    {
     "name": "stdout",
     "output_type": "stream",
     "text": [
      "[[   0    0    0 ...    0    0    0]\n",
      " [   1    4    0 ...    0    0    0]\n",
      " [   2    1    0 ...    0    0    0]\n",
      " ...\n",
      " [7997    5    0 ...    0    0    0]\n",
      " [7998    4    0 ...    0    0    0]\n",
      " [7999    0    0 ...    0    0    0]]\n"
     ]
    }
   ],
   "source": [
    "print(num)"
   ]
  },
  {
   "cell_type": "code",
   "execution_count": 8,
   "metadata": {},
   "outputs": [],
   "source": [
    "X=num[:,2:]\n",
    "y=num[:, 1]"
   ]
  },
  {
   "cell_type": "code",
   "execution_count": 9,
   "metadata": {},
   "outputs": [],
   "source": [
    "img=X[3].reshape(28,28)"
   ]
  },
  {
   "cell_type": "code",
   "execution_count": 10,
   "metadata": {},
   "outputs": [
    {
     "data": {
      "text/plain": [
       "<matplotlib.image.AxesImage at 0x24d2a293278>"
      ]
     },
     "execution_count": 10,
     "metadata": {},
     "output_type": "execute_result"
    },
    {
     "data": {
      "image/png": "[encoded data removed]",
      "text/plain": [
       "<Figure size 432x288 with 1 Axes>"
      ]
     },
     "metadata": {
      "needs_background": "light"
     },
     "output_type": "display_data"
    }
   ],
   "source": [
    "plt.imshow(img, cmap=\"gray\")"
   ]
  },
  {
   "cell_type": "code",
   "execution_count": 11,
   "metadata": {},
   "outputs": [],
   "source": [
    "X_train, X_test, y_train, y_test = train_test_split(X, y, test_size=0.33, random_state=42)"
   ]
  },
  {
   "cell_type": "code",
   "execution_count": 12,
   "metadata": {},
   "outputs": [],
   "source": [
    "class KNN:\n",
    "    def __init__(self,k):\n",
    "        self.k=k\n",
    "        self.X=None\n",
    "        self.y=None\n",
    "        \n",
    "    def fit(self,X,y):\n",
    "        self.X=X\n",
    "        self.y=y\n",
    "        \n",
    "    def predict_point(self,point):\n",
    "        distances=[]\n",
    "        for x_item, y_item in zip(self.X,self.y):\n",
    "            dis=KNN.distance(x_item,point)\n",
    "            distances.append((dis, y_item))\n",
    "            \n",
    "        distances=sorted(distances)\n",
    "        top=np.array(distances[:self.k])\n",
    "        \n",
    "        vals,counts=np.unique(top[:, 1], return_counts=True)\n",
    "        return vals[np.argmax(counts)]\n",
    "    def predict(self, X):\n",
    "        res=[]\n",
    "        for point in X:\n",
    "            v=self.predict_point(point)\n",
    "            res.append(v)\n",
    "        return np.array(res, dtype=int)\n",
    "    \n",
    "    def score(self, X, y):\n",
    "        return sum(self.predict(X)==y)/len(y)\n",
    "    \n",
    "    @classmethod\n",
    "    def distance(cls, p1, p2):\n",
    "        return np.sum((p1-p2)**2)"
   ]
  },
  {
   "cell_type": "code",
   "execution_count": 13,
   "metadata": {},
   "outputs": [],
   "source": [
    "model=KNN(10)"
   ]
  },
  {
   "cell_type": "code",
   "execution_count": 14,
   "metadata": {},
   "outputs": [],
   "source": [
    "model.fit(X_train,y_train)"
   ]
  },
  {
   "cell_type": "code",
   "execution_count": 15,
   "metadata": {},
   "outputs": [
    {
     "data": {
      "text/plain": [
       "array([9, 1, 4, 8, 0, 8, 2, 2, 4, 0])"
      ]
     },
     "execution_count": 15,
     "metadata": {},
     "output_type": "execute_result"
    }
   ],
   "source": [
    "model.predict(X_test[:10])"
   ]
  },
  {
   "cell_type": "code",
   "execution_count": null,
   "metadata": {},
   "outputs": [],
   "source": [
    "model.score(X_test, y_test)"
   ]
  },
  {
   "cell_type": "code",
   "execution_count": null,
   "metadata": {},
   "outputs": [],
   "source": []
  },
  {
   "cell_type": "code",
   "execution_count": null,
   "metadata": {},
   "outputs": [],
   "source": []
  }
 ],
 "metadata": {
  "kernelspec": {
   "display_name": "Python 3",
   "language": "python",
   "name": "python3"
  },
  "language_info": {
   "codemirror_mode": {
    "name": "ipython",
    "version": 3
   },
   "file_extension": ".py",
   "mimetype": "text/x-python",
   "name": "python",
   "nbconvert_exporter": "python",
   "pygments_lexer": "ipython3",
   "version": "3.6.5"
  }
 },
 "nbformat": 4,
 "nbformat_minor": 2
}
